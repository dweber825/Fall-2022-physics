{
 "cells": [
  {
   "cell_type": "code",
   "execution_count": 3,
   "id": "736fb25f",
   "metadata": {},
   "outputs": [
    {
     "name": "stdout",
     "output_type": "stream",
     "text": [
      "c =  205.2\n"
     ]
    }
   ],
   "source": [
    "import numpy as np \n",
    "\n",
    "def fred(a,b):\n",
    "    c = (a+b)*12\n",
    "    return c \n",
    "\n",
    "a = 13.2\n",
    "b = 3.9\n",
    "c = fred(a,b)\n",
    "\n",
    "print (\"c = \",c)\n"
   ]
  },
  {
   "cell_type": "code",
   "execution_count": 7,
   "id": "8f18ea2b",
   "metadata": {},
   "outputs": [
    {
     "name": "stdout",
     "output_type": "stream",
     "text": [
      "dQ = 0.03162277660168379\n"
     ]
    }
   ],
   "source": [
    "def rule3(dA,dB):\n",
    "    dQ = np.sqrt(dA**2+dB**2)\n",
    "    return dQ\n",
    "\n",
    "dA = .01\n",
    "dB = .03\n",
    "dQ = rule3(dA,dB)\n",
    "\n",
    "print (\"dQ =\", dQ)"
   ]
  },
  {
   "cell_type": "markdown",
   "id": "115828b5",
   "metadata": {},
   "source": [
    "$F=g\\delta m$"
   ]
  },
  {
   "cell_type": "markdown",
   "id": "41c39906",
   "metadata": {},
   "source": [
    "$Q = \\sqrt{(\\delta A)^2 + (\\delta B)^2}$"
   ]
  },
  {
   "cell_type": "markdown",
   "id": "5e914cd5",
   "metadata": {},
   "source": [
    "$\\delta v_i = v_i*\\sqrt{(\\frac{\\delta m}{m})^2 +(\\frac{\\delta M}{M})^2 + (\\frac{\\delta R}{R})^2 + (\\frac{\\delta 1-\\cos}{1-\\cos})^2}$"
   ]
  },
  {
   "cell_type": "code",
   "execution_count": 14,
   "id": "4f012dc6",
   "metadata": {},
   "outputs": [
    {
     "name": "stdout",
     "output_type": "stream",
     "text": [
      "dQ = 19.200000000000003\n"
     ]
    }
   ],
   "source": [
    "def rule2(dA,c,m,A):\n",
    "    dQ = c*m*dA**(m-1)*A\n",
    "    return dQ\n",
    "dA = .1\n",
    "c = 8\n",
    "m = 2\n",
    "A = 12\n",
    "dQ = rule1(dA,c,m,A)\n",
    "\n",
    "print (\"dQ =\", dQ)"
   ]
  },
  {
   "cell_type": "code",
   "execution_count": 15,
   "id": "4f1bd73e",
   "metadata": {},
   "outputs": [
    {
     "name": "stdout",
     "output_type": "stream",
     "text": [
      "dQ = 4\n"
     ]
    }
   ],
   "source": [
    "def rule1(c,dA,):\n",
    "    dQ = c*dA\n",
    "    return dQ\n",
    "dA = 2\n",
    "c = 2\n",
    "dQ = rule1(c,dA)\n",
    "\n",
    "print (\"dQ =\", dQ)"
   ]
  },
  {
   "cell_type": "code",
   "execution_count": 18,
   "id": "e2a0bdbe",
   "metadata": {},
   "outputs": [
    {
     "name": "stdout",
     "output_type": "stream",
     "text": [
      "dvi =  0.028058714434238907\n"
     ]
    }
   ],
   "source": [
    "#this is my rule 4 and rule 4 calculation for last weeks lab\n",
    "def rule4(m,M,dm,dM,vi,dR,R,C,dC):\n",
    "    dvi = vi*np.sqrt((dm/m)**2+(dM/M)**2+(dR/R)**2+(dC/C)**2)\n",
    "    return dvi\n",
    "m = 66.2\n",
    "M = 191.6\n",
    "dm = .1\n",
    "dM = .1\n",
    "vi = 3.51\n",
    "dR = .0005\n",
    "R = 27.58\n",
    "C = .1481\n",
    "dC = .00116\n",
    "dvi = rule4(m,M,dm,dM,vi,dR,R,C,dC)\n",
    "\n",
    "print (\"dvi = \", dvi)\n",
    "            "
   ]
  },
  {
   "cell_type": "code",
   "execution_count": null,
   "id": "c69b9778",
   "metadata": {},
   "outputs": [],
   "source": [
    "#my error in vi calculated above is different than the one calculated using my calculator of .0029m/s compared to the \n",
    "#above .028m/s"
   ]
  },
  {
   "cell_type": "code",
   "execution_count": 38,
   "id": "987628ff",
   "metadata": {},
   "outputs": [
    {
     "name": "stdout",
     "output_type": "stream",
     "text": [
      "1.1166666666666667\n",
      "0.17950549357115014\n"
     ]
    }
   ],
   "source": [
    "import numpy as np\n",
    "\n",
    "arr = (1.1,1.3,1.4,0.9,0.95,1.05)\n",
    "avg = np.average(arr)\n",
    "std = np.std(arr)\n",
    "\n",
    "print (avg)\n",
    "print (std)\n",
    "#here the average is 1.12 + or - .18"
   ]
  },
  {
   "cell_type": "markdown",
   "id": "bfe82868",
   "metadata": {},
   "source": []
  }
 ],
 "metadata": {
  "kernelspec": {
   "display_name": "Python 3 (ipykernel)",
   "language": "python",
   "name": "python3"
  },
  "language_info": {
   "codemirror_mode": {
    "name": "ipython",
    "version": 3
   },
   "file_extension": ".py",
   "mimetype": "text/x-python",
   "name": "python",
   "nbconvert_exporter": "python",
   "pygments_lexer": "ipython3",
   "version": "3.9.12"
  }
 },
 "nbformat": 4,
 "nbformat_minor": 5
}
